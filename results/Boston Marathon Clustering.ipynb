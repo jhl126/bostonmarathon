{
 "cells": [
  {
   "cell_type": "code",
   "execution_count": 1,
   "metadata": {},
   "outputs": [
    {
     "data": {
      "application/javascript": [
       "\n",
       "            setTimeout(function() {\n",
       "                var nbb_cell_id = 1;\n",
       "                var nbb_unformatted_code = \"%reload_ext nb_black\";\n",
       "                var nbb_formatted_code = \"%reload_ext nb_black\";\n",
       "                var nbb_cells = Jupyter.notebook.get_cells();\n",
       "                for (var i = 0; i < nbb_cells.length; ++i) {\n",
       "                    if (nbb_cells[i].input_prompt_number == nbb_cell_id) {\n",
       "                        if (nbb_cells[i].get_text() == nbb_unformatted_code) {\n",
       "                             nbb_cells[i].set_text(nbb_formatted_code);\n",
       "                        }\n",
       "                        break;\n",
       "                    }\n",
       "                }\n",
       "            }, 500);\n",
       "            "
      ],
      "text/plain": [
       "<IPython.core.display.Javascript object>"
      ]
     },
     "metadata": {},
     "output_type": "display_data"
    }
   ],
   "source": [
    "%reload_ext nb_black"
   ]
  },
  {
   "cell_type": "code",
   "execution_count": 23,
   "metadata": {},
   "outputs": [
    {
     "data": {
      "application/javascript": [
       "\n",
       "            setTimeout(function() {\n",
       "                var nbb_cell_id = 23;\n",
       "                var nbb_unformatted_code = \"import pandas as pd\\nimport numpy as np\\nimport matplotlib.pyplot as plt\\nimport seaborn as sns\\nfrom sklearn.preprocessing import StandardScaler\\nfrom sklearn.cluster import KMeans\\nfrom sklearn.cluster import DBSCAN\\nfrom sklearn.decomposition import PCA\\nfrom sklearn.manifold import TSNE\\nfrom sklearn.model_selection import train_test_split\";\n",
       "                var nbb_formatted_code = \"import pandas as pd\\nimport numpy as np\\nimport matplotlib.pyplot as plt\\nimport seaborn as sns\\nfrom sklearn.preprocessing import StandardScaler\\nfrom sklearn.cluster import KMeans\\nfrom sklearn.cluster import DBSCAN\\nfrom sklearn.decomposition import PCA\\nfrom sklearn.manifold import TSNE\\nfrom sklearn.model_selection import train_test_split\";\n",
       "                var nbb_cells = Jupyter.notebook.get_cells();\n",
       "                for (var i = 0; i < nbb_cells.length; ++i) {\n",
       "                    if (nbb_cells[i].input_prompt_number == nbb_cell_id) {\n",
       "                        if (nbb_cells[i].get_text() == nbb_unformatted_code) {\n",
       "                             nbb_cells[i].set_text(nbb_formatted_code);\n",
       "                        }\n",
       "                        break;\n",
       "                    }\n",
       "                }\n",
       "            }, 500);\n",
       "            "
      ],
      "text/plain": [
       "<IPython.core.display.Javascript object>"
      ]
     },
     "metadata": {},
     "output_type": "display_data"
    }
   ],
   "source": [
    "import pandas as pd\n",
    "import numpy as np\n",
    "import matplotlib.pyplot as plt\n",
    "import seaborn as sns\n",
    "from sklearn.preprocessing import StandardScaler\n",
    "from sklearn.cluster import KMeans\n",
    "from sklearn.cluster import DBSCAN\n",
    "from sklearn.decomposition import PCA\n",
    "from sklearn.manifold import TSNE\n",
    "from sklearn.model_selection import train_test_split"
   ]
  },
  {
   "cell_type": "code",
   "execution_count": 3,
   "metadata": {},
   "outputs": [
    {
     "data": {
      "application/javascript": [
       "\n",
       "            setTimeout(function() {\n",
       "                var nbb_cell_id = 3;\n",
       "                var nbb_unformatted_code = \"file_path = \\\"https://github.com/jhl126/bostonmarathon/blob/master/results/2014/results.csv?raw=true\\\"\";\n",
       "                var nbb_formatted_code = \"file_path = \\\"https://github.com/jhl126/bostonmarathon/blob/master/results/2014/results.csv?raw=true\\\"\";\n",
       "                var nbb_cells = Jupyter.notebook.get_cells();\n",
       "                for (var i = 0; i < nbb_cells.length; ++i) {\n",
       "                    if (nbb_cells[i].input_prompt_number == nbb_cell_id) {\n",
       "                        if (nbb_cells[i].get_text() == nbb_unformatted_code) {\n",
       "                             nbb_cells[i].set_text(nbb_formatted_code);\n",
       "                        }\n",
       "                        break;\n",
       "                    }\n",
       "                }\n",
       "            }, 500);\n",
       "            "
      ],
      "text/plain": [
       "<IPython.core.display.Javascript object>"
      ]
     },
     "metadata": {},
     "output_type": "display_data"
    }
   ],
   "source": [
    "file_path = \"https://github.com/jhl126/bostonmarathon/blob/master/results/2014/results.csv?raw=true\""
   ]
  },
  {
   "cell_type": "code",
   "execution_count": 4,
   "metadata": {},
   "outputs": [
    {
     "data": {
      "application/javascript": [
       "\n",
       "            setTimeout(function() {\n",
       "                var nbb_cell_id = 4;\n",
       "                var nbb_unformatted_code = \"yr_2014 = pd.read_csv(file_path, error_bad_lines=False)\";\n",
       "                var nbb_formatted_code = \"yr_2014 = pd.read_csv(file_path, error_bad_lines=False)\";\n",
       "                var nbb_cells = Jupyter.notebook.get_cells();\n",
       "                for (var i = 0; i < nbb_cells.length; ++i) {\n",
       "                    if (nbb_cells[i].input_prompt_number == nbb_cell_id) {\n",
       "                        if (nbb_cells[i].get_text() == nbb_unformatted_code) {\n",
       "                             nbb_cells[i].set_text(nbb_formatted_code);\n",
       "                        }\n",
       "                        break;\n",
       "                    }\n",
       "                }\n",
       "            }, 500);\n",
       "            "
      ],
      "text/plain": [
       "<IPython.core.display.Javascript object>"
      ]
     },
     "metadata": {},
     "output_type": "display_data"
    }
   ],
   "source": [
    "yr_2014 = pd.read_csv(file_path, error_bad_lines=False)"
   ]
  },
  {
   "cell_type": "code",
   "execution_count": 5,
   "metadata": {
    "scrolled": true
   },
   "outputs": [
    {
     "data": {
      "text/plain": [
       "(31984, 21)"
      ]
     },
     "execution_count": 5,
     "metadata": {},
     "output_type": "execute_result"
    },
    {
     "data": {
      "application/javascript": [
       "\n",
       "            setTimeout(function() {\n",
       "                var nbb_cell_id = 5;\n",
       "                var nbb_unformatted_code = \"yr_2014.shape\";\n",
       "                var nbb_formatted_code = \"yr_2014.shape\";\n",
       "                var nbb_cells = Jupyter.notebook.get_cells();\n",
       "                for (var i = 0; i < nbb_cells.length; ++i) {\n",
       "                    if (nbb_cells[i].input_prompt_number == nbb_cell_id) {\n",
       "                        if (nbb_cells[i].get_text() == nbb_unformatted_code) {\n",
       "                             nbb_cells[i].set_text(nbb_formatted_code);\n",
       "                        }\n",
       "                        break;\n",
       "                    }\n",
       "                }\n",
       "            }, 500);\n",
       "            "
      ],
      "text/plain": [
       "<IPython.core.display.Javascript object>"
      ]
     },
     "metadata": {},
     "output_type": "display_data"
    }
   ],
   "source": [
    "yr_2014.shape"
   ]
  },
  {
   "cell_type": "code",
   "execution_count": 6,
   "metadata": {},
   "outputs": [
    {
     "data": {
      "text/html": [
       "<div>\n",
       "<style scoped>\n",
       "    .dataframe tbody tr th:only-of-type {\n",
       "        vertical-align: middle;\n",
       "    }\n",
       "\n",
       "    .dataframe tbody tr th {\n",
       "        vertical-align: top;\n",
       "    }\n",
       "\n",
       "    .dataframe thead th {\n",
       "        text-align: right;\n",
       "    }\n",
       "</style>\n",
       "<table border=\"1\" class=\"dataframe\">\n",
       "  <thead>\n",
       "    <tr style=\"text-align: right;\">\n",
       "      <th></th>\n",
       "      <th>10k</th>\n",
       "      <th>name</th>\n",
       "      <th>division</th>\n",
       "      <th>25k</th>\n",
       "      <th>gender</th>\n",
       "      <th>age</th>\n",
       "      <th>official</th>\n",
       "      <th>bib</th>\n",
       "      <th>genderdiv</th>\n",
       "      <th>ctz</th>\n",
       "      <th>...</th>\n",
       "      <th>overall</th>\n",
       "      <th>pace</th>\n",
       "      <th>state</th>\n",
       "      <th>30k</th>\n",
       "      <th>5k</th>\n",
       "      <th>half</th>\n",
       "      <th>20k</th>\n",
       "      <th>country</th>\n",
       "      <th>city</th>\n",
       "      <th>40k</th>\n",
       "    </tr>\n",
       "  </thead>\n",
       "  <tbody>\n",
       "    <tr>\n",
       "      <th>0</th>\n",
       "      <td>17.37</td>\n",
       "      <td>Yamamoto, Hiroyuki</td>\n",
       "      <td>8</td>\n",
       "      <td>47.67</td>\n",
       "      <td>M</td>\n",
       "      <td>47</td>\n",
       "      <td>85.25</td>\n",
       "      <td>W1</td>\n",
       "      <td>8</td>\n",
       "      <td>NaN</td>\n",
       "      <td>...</td>\n",
       "      <td>8</td>\n",
       "      <td>3.27</td>\n",
       "      <td>NaN</td>\n",
       "      <td>59.18</td>\n",
       "      <td>8.02</td>\n",
       "      <td>39.72</td>\n",
       "      <td>37.65</td>\n",
       "      <td>JPN</td>\n",
       "      <td>Fukuoka</td>\n",
       "      <td>80.43</td>\n",
       "    </tr>\n",
       "    <tr>\n",
       "      <th>1</th>\n",
       "      <td>32.58</td>\n",
       "      <td>Jeptoo, Rita</td>\n",
       "      <td>1</td>\n",
       "      <td>82.43</td>\n",
       "      <td>F</td>\n",
       "      <td>33</td>\n",
       "      <td>138.95</td>\n",
       "      <td>F1</td>\n",
       "      <td>1</td>\n",
       "      <td>NaN</td>\n",
       "      <td>...</td>\n",
       "      <td>21</td>\n",
       "      <td>5.30</td>\n",
       "      <td>NaN</td>\n",
       "      <td>99.33</td>\n",
       "      <td>16.22</td>\n",
       "      <td>69.47</td>\n",
       "      <td>65.83</td>\n",
       "      <td>KEN</td>\n",
       "      <td>Eldoret</td>\n",
       "      <td>132.10</td>\n",
       "    </tr>\n",
       "    <tr>\n",
       "      <th>2</th>\n",
       "      <td>16.62</td>\n",
       "      <td>Van Dyk, Ernst F.</td>\n",
       "      <td>1</td>\n",
       "      <td>45.80</td>\n",
       "      <td>M</td>\n",
       "      <td>41</td>\n",
       "      <td>80.60</td>\n",
       "      <td>W2</td>\n",
       "      <td>1</td>\n",
       "      <td>NaN</td>\n",
       "      <td>...</td>\n",
       "      <td>1</td>\n",
       "      <td>3.08</td>\n",
       "      <td>NaN</td>\n",
       "      <td>56.45</td>\n",
       "      <td>7.75</td>\n",
       "      <td>38.03</td>\n",
       "      <td>36.10</td>\n",
       "      <td>RSA</td>\n",
       "      <td>Paarl</td>\n",
       "      <td>76.10</td>\n",
       "    </tr>\n",
       "    <tr>\n",
       "      <th>3</th>\n",
       "      <td>32.57</td>\n",
       "      <td>Dibaba, Mare</td>\n",
       "      <td>3</td>\n",
       "      <td>82.43</td>\n",
       "      <td>F</td>\n",
       "      <td>24</td>\n",
       "      <td>140.58</td>\n",
       "      <td>F2</td>\n",
       "      <td>3</td>\n",
       "      <td>NaN</td>\n",
       "      <td>...</td>\n",
       "      <td>27</td>\n",
       "      <td>5.37</td>\n",
       "      <td>NaN</td>\n",
       "      <td>99.33</td>\n",
       "      <td>16.20</td>\n",
       "      <td>69.47</td>\n",
       "      <td>65.83</td>\n",
       "      <td>ETH</td>\n",
       "      <td>Shoa</td>\n",
       "      <td>132.95</td>\n",
       "    </tr>\n",
       "    <tr>\n",
       "      <th>4</th>\n",
       "      <td>17.12</td>\n",
       "      <td>Hokinoue, Kota</td>\n",
       "      <td>2</td>\n",
       "      <td>46.37</td>\n",
       "      <td>M</td>\n",
       "      <td>40</td>\n",
       "      <td>81.23</td>\n",
       "      <td>W3</td>\n",
       "      <td>2</td>\n",
       "      <td>NaN</td>\n",
       "      <td>...</td>\n",
       "      <td>2</td>\n",
       "      <td>3.10</td>\n",
       "      <td>NaN</td>\n",
       "      <td>57.03</td>\n",
       "      <td>8.02</td>\n",
       "      <td>38.60</td>\n",
       "      <td>36.58</td>\n",
       "      <td>JPN</td>\n",
       "      <td>Nogata Fukuoka</td>\n",
       "      <td>76.72</td>\n",
       "    </tr>\n",
       "  </tbody>\n",
       "</table>\n",
       "<p>5 rows × 21 columns</p>\n",
       "</div>"
      ],
      "text/plain": [
       "     10k                name  division    25k gender  age  official bib  \\\n",
       "0  17.37  Yamamoto, Hiroyuki         8  47.67      M   47     85.25  W1   \n",
       "1  32.58        Jeptoo, Rita         1  82.43      F   33    138.95  F1   \n",
       "2  16.62   Van Dyk, Ernst F.         1  45.80      M   41     80.60  W2   \n",
       "3  32.57        Dibaba, Mare         3  82.43      F   24    140.58  F2   \n",
       "4  17.12      Hokinoue, Kota         2  46.37      M   40     81.23  W3   \n",
       "\n",
       "   genderdiv  ctz  ... overall  pace  state    30k     5k   half    20k  \\\n",
       "0          8  NaN  ...       8  3.27    NaN  59.18   8.02  39.72  37.65   \n",
       "1          1  NaN  ...      21  5.30    NaN  99.33  16.22  69.47  65.83   \n",
       "2          1  NaN  ...       1  3.08    NaN  56.45   7.75  38.03  36.10   \n",
       "3          3  NaN  ...      27  5.37    NaN  99.33  16.20  69.47  65.83   \n",
       "4          2  NaN  ...       2  3.10    NaN  57.03   8.02  38.60  36.58   \n",
       "\n",
       "  country            city     40k  \n",
       "0     JPN         Fukuoka   80.43  \n",
       "1     KEN         Eldoret  132.10  \n",
       "2     RSA           Paarl   76.10  \n",
       "3     ETH            Shoa  132.95  \n",
       "4     JPN  Nogata Fukuoka   76.72  \n",
       "\n",
       "[5 rows x 21 columns]"
      ]
     },
     "execution_count": 6,
     "metadata": {},
     "output_type": "execute_result"
    },
    {
     "data": {
      "application/javascript": [
       "\n",
       "            setTimeout(function() {\n",
       "                var nbb_cell_id = 6;\n",
       "                var nbb_unformatted_code = \"yr_2014.head()\";\n",
       "                var nbb_formatted_code = \"yr_2014.head()\";\n",
       "                var nbb_cells = Jupyter.notebook.get_cells();\n",
       "                for (var i = 0; i < nbb_cells.length; ++i) {\n",
       "                    if (nbb_cells[i].input_prompt_number == nbb_cell_id) {\n",
       "                        if (nbb_cells[i].get_text() == nbb_unformatted_code) {\n",
       "                             nbb_cells[i].set_text(nbb_formatted_code);\n",
       "                        }\n",
       "                        break;\n",
       "                    }\n",
       "                }\n",
       "            }, 500);\n",
       "            "
      ],
      "text/plain": [
       "<IPython.core.display.Javascript object>"
      ]
     },
     "metadata": {},
     "output_type": "display_data"
    }
   ],
   "source": [
    "yr_2014.head()"
   ]
  },
  {
   "cell_type": "code",
   "execution_count": 7,
   "metadata": {},
   "outputs": [
    {
     "data": {
      "text/plain": [
       "10k          0.000000\n",
       "name         0.000000\n",
       "division     0.000000\n",
       "25k          0.000000\n",
       "gender       0.000000\n",
       "age          0.000000\n",
       "official     0.000000\n",
       "bib          0.000000\n",
       "genderdiv    0.000000\n",
       "ctz          0.961106\n",
       "35k          0.000000\n",
       "overall      0.000000\n",
       "pace         0.000000\n",
       "state        0.080540\n",
       "30k          0.000000\n",
       "5k           0.000000\n",
       "half         0.000000\n",
       "20k          0.000000\n",
       "country      0.000000\n",
       "city         0.000031\n",
       "40k          0.000000\n",
       "dtype: float64"
      ]
     },
     "execution_count": 7,
     "metadata": {},
     "output_type": "execute_result"
    },
    {
     "data": {
      "application/javascript": [
       "\n",
       "            setTimeout(function() {\n",
       "                var nbb_cell_id = 7;\n",
       "                var nbb_unformatted_code = \"# around 96% of data is missing for ctz, so drop this column\\n# additionally, state, city, and country seem to be unimportant, so drop state, city, and country column\\n# less than 1% of data is missing in city column, so drop na's\\nyr_2014.isna().mean()\";\n",
       "                var nbb_formatted_code = \"# around 96% of data is missing for ctz, so drop this column\\n# additionally, state, city, and country seem to be unimportant, so drop state, city, and country column\\n# less than 1% of data is missing in city column, so drop na's\\nyr_2014.isna().mean()\";\n",
       "                var nbb_cells = Jupyter.notebook.get_cells();\n",
       "                for (var i = 0; i < nbb_cells.length; ++i) {\n",
       "                    if (nbb_cells[i].input_prompt_number == nbb_cell_id) {\n",
       "                        if (nbb_cells[i].get_text() == nbb_unformatted_code) {\n",
       "                             nbb_cells[i].set_text(nbb_formatted_code);\n",
       "                        }\n",
       "                        break;\n",
       "                    }\n",
       "                }\n",
       "            }, 500);\n",
       "            "
      ],
      "text/plain": [
       "<IPython.core.display.Javascript object>"
      ]
     },
     "metadata": {},
     "output_type": "display_data"
    }
   ],
   "source": [
    "# around 96% of data is missing for ctz, so drop this column\n",
    "# additionally, state, city, and country seem to be unimportant, so drop state, city, and country column\n",
    "# less than 1% of data is missing in city column, so drop na's\n",
    "yr_2014.isna().mean()"
   ]
  },
  {
   "cell_type": "code",
   "execution_count": 8,
   "metadata": {},
   "outputs": [
    {
     "data": {
      "application/javascript": [
       "\n",
       "            setTimeout(function() {\n",
       "                var nbb_cell_id = 8;\n",
       "                var nbb_unformatted_code = \"yr_2014 = yr_2014.drop(columns=[\\\"ctz\\\", \\\"state\\\", \\\"city\\\", \\\"name\\\", \\\"bib\\\", \\\"country\\\"])\";\n",
       "                var nbb_formatted_code = \"yr_2014 = yr_2014.drop(columns=[\\\"ctz\\\", \\\"state\\\", \\\"city\\\", \\\"name\\\", \\\"bib\\\", \\\"country\\\"])\";\n",
       "                var nbb_cells = Jupyter.notebook.get_cells();\n",
       "                for (var i = 0; i < nbb_cells.length; ++i) {\n",
       "                    if (nbb_cells[i].input_prompt_number == nbb_cell_id) {\n",
       "                        if (nbb_cells[i].get_text() == nbb_unformatted_code) {\n",
       "                             nbb_cells[i].set_text(nbb_formatted_code);\n",
       "                        }\n",
       "                        break;\n",
       "                    }\n",
       "                }\n",
       "            }, 500);\n",
       "            "
      ],
      "text/plain": [
       "<IPython.core.display.Javascript object>"
      ]
     },
     "metadata": {},
     "output_type": "display_data"
    }
   ],
   "source": [
    "yr_2014 = yr_2014.drop(columns=[\"ctz\", \"state\", \"city\", \"name\", \"bib\", \"country\"])"
   ]
  },
  {
   "cell_type": "code",
   "execution_count": 9,
   "metadata": {},
   "outputs": [
    {
     "data": {
      "application/javascript": [
       "\n",
       "            setTimeout(function() {\n",
       "                var nbb_cell_id = 9;\n",
       "                var nbb_unformatted_code = \"yr_2014 = yr_2014.dropna()\";\n",
       "                var nbb_formatted_code = \"yr_2014 = yr_2014.dropna()\";\n",
       "                var nbb_cells = Jupyter.notebook.get_cells();\n",
       "                for (var i = 0; i < nbb_cells.length; ++i) {\n",
       "                    if (nbb_cells[i].input_prompt_number == nbb_cell_id) {\n",
       "                        if (nbb_cells[i].get_text() == nbb_unformatted_code) {\n",
       "                             nbb_cells[i].set_text(nbb_formatted_code);\n",
       "                        }\n",
       "                        break;\n",
       "                    }\n",
       "                }\n",
       "            }, 500);\n",
       "            "
      ],
      "text/plain": [
       "<IPython.core.display.Javascript object>"
      ]
     },
     "metadata": {},
     "output_type": "display_data"
    }
   ],
   "source": [
    "yr_2014 = yr_2014.dropna()"
   ]
  },
  {
   "cell_type": "code",
   "execution_count": 10,
   "metadata": {
    "scrolled": false
   },
   "outputs": [
    {
     "data": {
      "text/plain": [
       "10k           object\n",
       "division       int64\n",
       "25k           object\n",
       "gender        object\n",
       "age            int64\n",
       "official     float64\n",
       "genderdiv      int64\n",
       "35k           object\n",
       "overall        int64\n",
       "pace         float64\n",
       "30k           object\n",
       "5k            object\n",
       "half          object\n",
       "20k           object\n",
       "40k           object\n",
       "dtype: object"
      ]
     },
     "execution_count": 10,
     "metadata": {},
     "output_type": "execute_result"
    },
    {
     "data": {
      "application/javascript": [
       "\n",
       "            setTimeout(function() {\n",
       "                var nbb_cell_id = 10;\n",
       "                var nbb_unformatted_code = \"yr_2014.dtypes\";\n",
       "                var nbb_formatted_code = \"yr_2014.dtypes\";\n",
       "                var nbb_cells = Jupyter.notebook.get_cells();\n",
       "                for (var i = 0; i < nbb_cells.length; ++i) {\n",
       "                    if (nbb_cells[i].input_prompt_number == nbb_cell_id) {\n",
       "                        if (nbb_cells[i].get_text() == nbb_unformatted_code) {\n",
       "                             nbb_cells[i].set_text(nbb_formatted_code);\n",
       "                        }\n",
       "                        break;\n",
       "                    }\n",
       "                }\n",
       "            }, 500);\n",
       "            "
      ],
      "text/plain": [
       "<IPython.core.display.Javascript object>"
      ]
     },
     "metadata": {},
     "output_type": "display_data"
    }
   ],
   "source": [
    "yr_2014.dtypes"
   ]
  },
  {
   "cell_type": "code",
   "execution_count": 11,
   "metadata": {},
   "outputs": [
    {
     "data": {
      "application/javascript": [
       "\n",
       "            setTimeout(function() {\n",
       "                var nbb_cell_id = 11;\n",
       "                var nbb_unformatted_code = \"# converting objects into floats and getting rid of na values\\nyr_2014[\\\"5k\\\"] = yr_2014[\\\"5k\\\"].replace(\\\"-\\\", np.nan, regex=True)\\nyr_2014 = yr_2014.dropna()\\nyr_2014[\\\"5k\\\"] = yr_2014[\\\"5k\\\"].astype(float)\\n\\nyr_2014[\\\"10k\\\"] = yr_2014[\\\"10k\\\"].replace(\\\"-\\\", np.nan, regex=True)\\nyr_2014 = yr_2014.dropna()\\nyr_2014[\\\"10k\\\"] = yr_2014[\\\"10k\\\"].astype(float)\\n\\nyr_2014[\\\"20k\\\"] = yr_2014[\\\"20k\\\"].replace(\\\"-\\\", np.nan, regex=True)\\nyr_2014 = yr_2014.dropna()\\nyr_2014[\\\"20k\\\"] = yr_2014[\\\"20k\\\"].astype(float)\\n\\nyr_2014[\\\"25k\\\"] = yr_2014[\\\"25k\\\"].replace(\\\"-\\\", np.nan, regex=True)\\nyr_2014 = yr_2014.dropna()\\nyr_2014[\\\"25k\\\"] = yr_2014[\\\"25k\\\"].astype(float)\\n\\nyr_2014[\\\"30k\\\"] = yr_2014[\\\"30k\\\"].replace(\\\"-\\\", np.nan, regex=True)\\nyr_2014 = yr_2014.dropna()\\nyr_2014[\\\"30k\\\"] = yr_2014[\\\"30k\\\"].astype(float)\\n\\nyr_2014[\\\"35k\\\"] = yr_2014[\\\"35k\\\"].replace(\\\"-\\\", np.nan, regex=True)\\nyr_2014 = yr_2014.dropna()\\nyr_2014[\\\"35k\\\"] = yr_2014[\\\"35k\\\"].astype(float)\\n\\nyr_2014[\\\"40k\\\"] = yr_2014[\\\"40k\\\"].replace(\\\"-\\\", np.nan, regex=True)\\nyr_2014 = yr_2014.dropna()\\nyr_2014[\\\"40k\\\"] = yr_2014[\\\"40k\\\"].astype(float)\\n\\nyr_2014[\\\"half\\\"] = yr_2014[\\\"half\\\"].replace(\\\"-\\\", np.nan, regex=True)\\nyr_2014 = yr_2014.dropna()\\nyr_2014[\\\"half\\\"] = yr_2014[\\\"half\\\"].astype(float)\";\n",
       "                var nbb_formatted_code = \"# converting objects into floats and getting rid of na values\\nyr_2014[\\\"5k\\\"] = yr_2014[\\\"5k\\\"].replace(\\\"-\\\", np.nan, regex=True)\\nyr_2014 = yr_2014.dropna()\\nyr_2014[\\\"5k\\\"] = yr_2014[\\\"5k\\\"].astype(float)\\n\\nyr_2014[\\\"10k\\\"] = yr_2014[\\\"10k\\\"].replace(\\\"-\\\", np.nan, regex=True)\\nyr_2014 = yr_2014.dropna()\\nyr_2014[\\\"10k\\\"] = yr_2014[\\\"10k\\\"].astype(float)\\n\\nyr_2014[\\\"20k\\\"] = yr_2014[\\\"20k\\\"].replace(\\\"-\\\", np.nan, regex=True)\\nyr_2014 = yr_2014.dropna()\\nyr_2014[\\\"20k\\\"] = yr_2014[\\\"20k\\\"].astype(float)\\n\\nyr_2014[\\\"25k\\\"] = yr_2014[\\\"25k\\\"].replace(\\\"-\\\", np.nan, regex=True)\\nyr_2014 = yr_2014.dropna()\\nyr_2014[\\\"25k\\\"] = yr_2014[\\\"25k\\\"].astype(float)\\n\\nyr_2014[\\\"30k\\\"] = yr_2014[\\\"30k\\\"].replace(\\\"-\\\", np.nan, regex=True)\\nyr_2014 = yr_2014.dropna()\\nyr_2014[\\\"30k\\\"] = yr_2014[\\\"30k\\\"].astype(float)\\n\\nyr_2014[\\\"35k\\\"] = yr_2014[\\\"35k\\\"].replace(\\\"-\\\", np.nan, regex=True)\\nyr_2014 = yr_2014.dropna()\\nyr_2014[\\\"35k\\\"] = yr_2014[\\\"35k\\\"].astype(float)\\n\\nyr_2014[\\\"40k\\\"] = yr_2014[\\\"40k\\\"].replace(\\\"-\\\", np.nan, regex=True)\\nyr_2014 = yr_2014.dropna()\\nyr_2014[\\\"40k\\\"] = yr_2014[\\\"40k\\\"].astype(float)\\n\\nyr_2014[\\\"half\\\"] = yr_2014[\\\"half\\\"].replace(\\\"-\\\", np.nan, regex=True)\\nyr_2014 = yr_2014.dropna()\\nyr_2014[\\\"half\\\"] = yr_2014[\\\"half\\\"].astype(float)\";\n",
       "                var nbb_cells = Jupyter.notebook.get_cells();\n",
       "                for (var i = 0; i < nbb_cells.length; ++i) {\n",
       "                    if (nbb_cells[i].input_prompt_number == nbb_cell_id) {\n",
       "                        if (nbb_cells[i].get_text() == nbb_unformatted_code) {\n",
       "                             nbb_cells[i].set_text(nbb_formatted_code);\n",
       "                        }\n",
       "                        break;\n",
       "                    }\n",
       "                }\n",
       "            }, 500);\n",
       "            "
      ],
      "text/plain": [
       "<IPython.core.display.Javascript object>"
      ]
     },
     "metadata": {},
     "output_type": "display_data"
    }
   ],
   "source": [
    "# converting objects into floats and getting rid of na values\n",
    "yr_2014[\"5k\"] = yr_2014[\"5k\"].replace(\"-\", np.nan, regex=True)\n",
    "yr_2014 = yr_2014.dropna()\n",
    "yr_2014[\"5k\"] = yr_2014[\"5k\"].astype(float)\n",
    "\n",
    "yr_2014[\"10k\"] = yr_2014[\"10k\"].replace(\"-\", np.nan, regex=True)\n",
    "yr_2014 = yr_2014.dropna()\n",
    "yr_2014[\"10k\"] = yr_2014[\"10k\"].astype(float)\n",
    "\n",
    "yr_2014[\"20k\"] = yr_2014[\"20k\"].replace(\"-\", np.nan, regex=True)\n",
    "yr_2014 = yr_2014.dropna()\n",
    "yr_2014[\"20k\"] = yr_2014[\"20k\"].astype(float)\n",
    "\n",
    "yr_2014[\"25k\"] = yr_2014[\"25k\"].replace(\"-\", np.nan, regex=True)\n",
    "yr_2014 = yr_2014.dropna()\n",
    "yr_2014[\"25k\"] = yr_2014[\"25k\"].astype(float)\n",
    "\n",
    "yr_2014[\"30k\"] = yr_2014[\"30k\"].replace(\"-\", np.nan, regex=True)\n",
    "yr_2014 = yr_2014.dropna()\n",
    "yr_2014[\"30k\"] = yr_2014[\"30k\"].astype(float)\n",
    "\n",
    "yr_2014[\"35k\"] = yr_2014[\"35k\"].replace(\"-\", np.nan, regex=True)\n",
    "yr_2014 = yr_2014.dropna()\n",
    "yr_2014[\"35k\"] = yr_2014[\"35k\"].astype(float)\n",
    "\n",
    "yr_2014[\"40k\"] = yr_2014[\"40k\"].replace(\"-\", np.nan, regex=True)\n",
    "yr_2014 = yr_2014.dropna()\n",
    "yr_2014[\"40k\"] = yr_2014[\"40k\"].astype(float)\n",
    "\n",
    "yr_2014[\"half\"] = yr_2014[\"half\"].replace(\"-\", np.nan, regex=True)\n",
    "yr_2014 = yr_2014.dropna()\n",
    "yr_2014[\"half\"] = yr_2014[\"half\"].astype(float)"
   ]
  },
  {
   "cell_type": "code",
   "execution_count": 12,
   "metadata": {
    "scrolled": false
   },
   "outputs": [
    {
     "data": {
      "text/html": [
       "<div>\n",
       "<style scoped>\n",
       "    .dataframe tbody tr th:only-of-type {\n",
       "        vertical-align: middle;\n",
       "    }\n",
       "\n",
       "    .dataframe tbody tr th {\n",
       "        vertical-align: top;\n",
       "    }\n",
       "\n",
       "    .dataframe thead th {\n",
       "        text-align: right;\n",
       "    }\n",
       "</style>\n",
       "<table border=\"1\" class=\"dataframe\">\n",
       "  <thead>\n",
       "    <tr style=\"text-align: right;\">\n",
       "      <th></th>\n",
       "      <th>10k</th>\n",
       "      <th>division</th>\n",
       "      <th>25k</th>\n",
       "      <th>age</th>\n",
       "      <th>official</th>\n",
       "      <th>genderdiv</th>\n",
       "      <th>35k</th>\n",
       "      <th>overall</th>\n",
       "      <th>pace</th>\n",
       "      <th>30k</th>\n",
       "      <th>5k</th>\n",
       "      <th>half</th>\n",
       "      <th>20k</th>\n",
       "      <th>40k</th>\n",
       "      <th>gender_M</th>\n",
       "    </tr>\n",
       "  </thead>\n",
       "  <tbody>\n",
       "    <tr>\n",
       "      <th>0</th>\n",
       "      <td>17.37</td>\n",
       "      <td>8</td>\n",
       "      <td>47.67</td>\n",
       "      <td>47</td>\n",
       "      <td>85.25</td>\n",
       "      <td>8</td>\n",
       "      <td>71.40</td>\n",
       "      <td>8</td>\n",
       "      <td>3.27</td>\n",
       "      <td>59.18</td>\n",
       "      <td>8.02</td>\n",
       "      <td>39.72</td>\n",
       "      <td>37.65</td>\n",
       "      <td>80.43</td>\n",
       "      <td>1</td>\n",
       "    </tr>\n",
       "    <tr>\n",
       "      <th>1</th>\n",
       "      <td>32.58</td>\n",
       "      <td>1</td>\n",
       "      <td>82.43</td>\n",
       "      <td>33</td>\n",
       "      <td>138.95</td>\n",
       "      <td>1</td>\n",
       "      <td>116.37</td>\n",
       "      <td>21</td>\n",
       "      <td>5.30</td>\n",
       "      <td>99.33</td>\n",
       "      <td>16.22</td>\n",
       "      <td>69.47</td>\n",
       "      <td>65.83</td>\n",
       "      <td>132.10</td>\n",
       "      <td>0</td>\n",
       "    </tr>\n",
       "    <tr>\n",
       "      <th>2</th>\n",
       "      <td>16.62</td>\n",
       "      <td>1</td>\n",
       "      <td>45.80</td>\n",
       "      <td>41</td>\n",
       "      <td>80.60</td>\n",
       "      <td>1</td>\n",
       "      <td>67.42</td>\n",
       "      <td>1</td>\n",
       "      <td>3.08</td>\n",
       "      <td>56.45</td>\n",
       "      <td>7.75</td>\n",
       "      <td>38.03</td>\n",
       "      <td>36.10</td>\n",
       "      <td>76.10</td>\n",
       "      <td>1</td>\n",
       "    </tr>\n",
       "    <tr>\n",
       "      <th>3</th>\n",
       "      <td>32.57</td>\n",
       "      <td>3</td>\n",
       "      <td>82.43</td>\n",
       "      <td>24</td>\n",
       "      <td>140.58</td>\n",
       "      <td>3</td>\n",
       "      <td>116.37</td>\n",
       "      <td>27</td>\n",
       "      <td>5.37</td>\n",
       "      <td>99.33</td>\n",
       "      <td>16.20</td>\n",
       "      <td>69.47</td>\n",
       "      <td>65.83</td>\n",
       "      <td>132.95</td>\n",
       "      <td>0</td>\n",
       "    </tr>\n",
       "    <tr>\n",
       "      <th>4</th>\n",
       "      <td>17.12</td>\n",
       "      <td>2</td>\n",
       "      <td>46.37</td>\n",
       "      <td>40</td>\n",
       "      <td>81.23</td>\n",
       "      <td>2</td>\n",
       "      <td>67.83</td>\n",
       "      <td>2</td>\n",
       "      <td>3.10</td>\n",
       "      <td>57.03</td>\n",
       "      <td>8.02</td>\n",
       "      <td>38.60</td>\n",
       "      <td>36.58</td>\n",
       "      <td>76.72</td>\n",
       "      <td>1</td>\n",
       "    </tr>\n",
       "  </tbody>\n",
       "</table>\n",
       "</div>"
      ],
      "text/plain": [
       "     10k  division    25k  age  official  genderdiv     35k  overall  pace  \\\n",
       "0  17.37         8  47.67   47     85.25          8   71.40        8  3.27   \n",
       "1  32.58         1  82.43   33    138.95          1  116.37       21  5.30   \n",
       "2  16.62         1  45.80   41     80.60          1   67.42        1  3.08   \n",
       "3  32.57         3  82.43   24    140.58          3  116.37       27  5.37   \n",
       "4  17.12         2  46.37   40     81.23          2   67.83        2  3.10   \n",
       "\n",
       "     30k     5k   half    20k     40k  gender_M  \n",
       "0  59.18   8.02  39.72  37.65   80.43         1  \n",
       "1  99.33  16.22  69.47  65.83  132.10         0  \n",
       "2  56.45   7.75  38.03  36.10   76.10         1  \n",
       "3  99.33  16.20  69.47  65.83  132.95         0  \n",
       "4  57.03   8.02  38.60  36.58   76.72         1  "
      ]
     },
     "execution_count": 12,
     "metadata": {},
     "output_type": "execute_result"
    },
    {
     "data": {
      "application/javascript": [
       "\n",
       "            setTimeout(function() {\n",
       "                var nbb_cell_id = 12;\n",
       "                var nbb_unformatted_code = \"# onehot encoding the categorical columns so the data frame can go through pca\\ncat_cols = [\\\"gender\\\"]\\nyr_2014 = pd.get_dummies(yr_2014, columns=cat_cols, drop_first=True)\\nyr_2014.head()\";\n",
       "                var nbb_formatted_code = \"# onehot encoding the categorical columns so the data frame can go through pca\\ncat_cols = [\\\"gender\\\"]\\nyr_2014 = pd.get_dummies(yr_2014, columns=cat_cols, drop_first=True)\\nyr_2014.head()\";\n",
       "                var nbb_cells = Jupyter.notebook.get_cells();\n",
       "                for (var i = 0; i < nbb_cells.length; ++i) {\n",
       "                    if (nbb_cells[i].input_prompt_number == nbb_cell_id) {\n",
       "                        if (nbb_cells[i].get_text() == nbb_unformatted_code) {\n",
       "                             nbb_cells[i].set_text(nbb_formatted_code);\n",
       "                        }\n",
       "                        break;\n",
       "                    }\n",
       "                }\n",
       "            }, 500);\n",
       "            "
      ],
      "text/plain": [
       "<IPython.core.display.Javascript object>"
      ]
     },
     "metadata": {},
     "output_type": "display_data"
    }
   ],
   "source": [
    "# onehot encoding the categorical columns so the data frame can go through pca\n",
    "cat_cols = [\"gender\"]\n",
    "yr_2014 = pd.get_dummies(yr_2014, columns=cat_cols, drop_first=True)\n",
    "yr_2014.head()"
   ]
  },
  {
   "cell_type": "code",
   "execution_count": null,
   "metadata": {},
   "outputs": [],
   "source": [
    "yr_2014.drop(yr_2014.tail(1).index, inplace=True)  # drop last row to make data even\n",
    "yr_2014.shape"
   ]
  },
  {
   "cell_type": "code",
   "execution_count": 49,
   "metadata": {},
   "outputs": [
    {
     "data": {
      "application/javascript": [
       "\n",
       "            setTimeout(function() {\n",
       "                var nbb_cell_id = 49;\n",
       "                var nbb_unformatted_code = \"X = yr_2014.drop(columns=[\\\"gender_M\\\"])\";\n",
       "                var nbb_formatted_code = \"X = yr_2014.drop(columns=[\\\"gender_M\\\"])\";\n",
       "                var nbb_cells = Jupyter.notebook.get_cells();\n",
       "                for (var i = 0; i < nbb_cells.length; ++i) {\n",
       "                    if (nbb_cells[i].input_prompt_number == nbb_cell_id) {\n",
       "                        if (nbb_cells[i].get_text() == nbb_unformatted_code) {\n",
       "                             nbb_cells[i].set_text(nbb_formatted_code);\n",
       "                        }\n",
       "                        break;\n",
       "                    }\n",
       "                }\n",
       "            }, 500);\n",
       "            "
      ],
      "text/plain": [
       "<IPython.core.display.Javascript object>"
      ]
     },
     "metadata": {},
     "output_type": "display_data"
    }
   ],
   "source": [
    "#gender is target variable\n",
    "X = yr_2014.drop(columns=[\"gender_M\"])"
   ]
  },
  {
   "cell_type": "code",
   "execution_count": 50,
   "metadata": {},
   "outputs": [
    {
     "data": {
      "text/plain": [
       "Index(['10k', 'division', '25k', 'age', 'official', 'genderdiv', '35k',\n",
       "       'overall', 'pace', '30k', '5k', 'half', '20k', '40k'],\n",
       "      dtype='object')"
      ]
     },
     "execution_count": 50,
     "metadata": {},
     "output_type": "execute_result"
    },
    {
     "data": {
      "application/javascript": [
       "\n",
       "            setTimeout(function() {\n",
       "                var nbb_cell_id = 50;\n",
       "                var nbb_unformatted_code = \"X.columns\";\n",
       "                var nbb_formatted_code = \"X.columns\";\n",
       "                var nbb_cells = Jupyter.notebook.get_cells();\n",
       "                for (var i = 0; i < nbb_cells.length; ++i) {\n",
       "                    if (nbb_cells[i].input_prompt_number == nbb_cell_id) {\n",
       "                        if (nbb_cells[i].get_text() == nbb_unformatted_code) {\n",
       "                             nbb_cells[i].set_text(nbb_formatted_code);\n",
       "                        }\n",
       "                        break;\n",
       "                    }\n",
       "                }\n",
       "            }, 500);\n",
       "            "
      ],
      "text/plain": [
       "<IPython.core.display.Javascript object>"
      ]
     },
     "metadata": {},
     "output_type": "display_data"
    }
   ],
   "source": [
    "X.columns"
   ]
  },
  {
   "cell_type": "code",
   "execution_count": 51,
   "metadata": {},
   "outputs": [
    {
     "data": {
      "application/javascript": [
       "\n",
       "            setTimeout(function() {\n",
       "                var nbb_cell_id = 51;\n",
       "                var nbb_unformatted_code = \"# before performing pca, make sure data is mean normalized\\nscaler = StandardScaler()\\nscaled = scaler.fit_transform(X)\";\n",
       "                var nbb_formatted_code = \"# before performing pca, make sure data is mean normalized\\nscaler = StandardScaler()\\nscaled = scaler.fit_transform(X)\";\n",
       "                var nbb_cells = Jupyter.notebook.get_cells();\n",
       "                for (var i = 0; i < nbb_cells.length; ++i) {\n",
       "                    if (nbb_cells[i].input_prompt_number == nbb_cell_id) {\n",
       "                        if (nbb_cells[i].get_text() == nbb_unformatted_code) {\n",
       "                             nbb_cells[i].set_text(nbb_formatted_code);\n",
       "                        }\n",
       "                        break;\n",
       "                    }\n",
       "                }\n",
       "            }, 500);\n",
       "            "
      ],
      "text/plain": [
       "<IPython.core.display.Javascript object>"
      ]
     },
     "metadata": {},
     "output_type": "display_data"
    }
   ],
   "source": [
    "# before performing pca, make sure data is mean normalized\n",
    "scaler = StandardScaler()\n",
    "scaled = scaler.fit_transform(X)"
   ]
  },
  {
   "cell_type": "markdown",
   "metadata": {},
   "source": [
    "## Using KMeans with PCA"
   ]
  },
  {
   "cell_type": "markdown",
   "metadata": {},
   "source": [
    "#### 1st attempt"
   ]
  },
  {
   "cell_type": "code",
   "execution_count": 52,
   "metadata": {
    "scrolled": true
   },
   "outputs": [
    {
     "data": {
      "application/javascript": [
       "\n",
       "            setTimeout(function() {\n",
       "                var nbb_cell_id = 52;\n",
       "                var nbb_unformatted_code = \"# perform pca on normalized data\\npca = PCA(n_components=2)\\nX_pca = pca.fit_transform(scaled)\\nX_half1, X_half2, X_pcahalf1, X_pcahalf2 = train_test_split(\\n    scaled, X_pca, test_size=0.5, random_state=13\\n)\";\n",
       "                var nbb_formatted_code = \"# perform pca on normalized data\\npca = PCA(n_components=2)\\nX_pca = pca.fit_transform(scaled)\\nX_half1, X_half2, X_pcahalf1, X_pcahalf2 = train_test_split(\\n    scaled, X_pca, test_size=0.5, random_state=13\\n)\";\n",
       "                var nbb_cells = Jupyter.notebook.get_cells();\n",
       "                for (var i = 0; i < nbb_cells.length; ++i) {\n",
       "                    if (nbb_cells[i].input_prompt_number == nbb_cell_id) {\n",
       "                        if (nbb_cells[i].get_text() == nbb_unformatted_code) {\n",
       "                             nbb_cells[i].set_text(nbb_formatted_code);\n",
       "                        }\n",
       "                        break;\n",
       "                    }\n",
       "                }\n",
       "            }, 500);\n",
       "            "
      ],
      "text/plain": [
       "<IPython.core.display.Javascript object>"
      ]
     },
     "metadata": {},
     "output_type": "display_data"
    }
   ],
   "source": [
    "# split up data\n",
    "# perform pca on normalized data\n",
    "pca = PCA(n_components=2)\n",
    "X_pca = pca.fit_transform(scaled)\n",
    "X_half1, X_half2, X_pcahalf1, X_pcahalf2 = train_test_split(\n",
    "    scaled, X_pca, test_size=0.5, random_state=13\n",
    ")"
   ]
  },
  {
   "cell_type": "code",
   "execution_count": 78,
   "metadata": {},
   "outputs": [
    {
     "data": {
      "application/javascript": [
       "\n",
       "            setTimeout(function() {\n",
       "                var nbb_cell_id = 77;\n",
       "                var nbb_unformatted_code = \"ypred\";\n",
       "                var nbb_formatted_code = \"ypred\";\n",
       "                var nbb_cells = Jupyter.notebook.get_cells();\n",
       "                for (var i = 0; i < nbb_cells.length; ++i) {\n",
       "                    if (nbb_cells[i].input_prompt_number == nbb_cell_id) {\n",
       "                        if (nbb_cells[i].get_text() == nbb_unformatted_code) {\n",
       "                             nbb_cells[i].set_text(nbb_formatted_code);\n",
       "                        }\n",
       "                        break;\n",
       "                    }\n",
       "                }\n",
       "            }, 500);\n",
       "            "
      ],
      "text/plain": [
       "<IPython.core.display.Javascript object>"
      ]
     },
     "metadata": {},
     "output_type": "display_data"
    }
   ],
   "source": [
    "# Data frame to store features and predicted cluster memberships.\n",
    "ypred = pd.DataFrame()\n",
    "\n",
    "# Pass a list of tuples and a counter that increments each time we go\n",
    "# through the loop. The tuples are the data to be used by k-means,\n",
    "# and the PCA-derived features for graphing. We use k-means to fit a\n",
    "# model to the data, then store the predicted values and the two-feature\n",
    "# PCA solution in the data frame.\n",
    "for counter, data in enumerate([(X_half1, X_pcahalf1), (X_half2, X_pcahalf2)]):\n",
    "\n",
    "    # Put the features into ypred.\n",
    "    ypred[\"pca_f1\" + \"_sample\" + str(counter)] = data[1][:, 0]\n",
    "    ypred[\"pca_f2\" + \"_sample\" + str(counter)] = data[1][:, 1]\n",
    "\n",
    "    # create 4 clusters\n",
    "    pred = KMeans(n_clusters=4, random_state=13).fit_predict(data[counter])\n",
    "    ypred[\"clust\" + str(4) + \"_sample\" + str(counter)] = pred"
   ]
  },
  {
   "cell_type": "code",
   "execution_count": 72,
   "metadata": {
    "scrolled": false
   },
   "outputs": [
    {
     "data": {
      "image/png": "[encoded data removed]",
      "text/plain": [
       "<Figure size 432x288 with 2 Axes>"
      ]
     },
     "metadata": {
      "needs_background": "light"
     },
     "output_type": "display_data"
    },
    {
     "name": "stdout",
     "output_type": "stream",
     "text": [
      "\n",
      "\n"
     ]
    },
    {
     "data": {
      "application/javascript": [
       "\n",
       "            setTimeout(function() {\n",
       "                var nbb_cell_id = 71;\n",
       "                var nbb_unformatted_code = \"# Make a grid of subplots.\\nf, axarr = plt.subplots(1, 2)\\n\\n# Make a plot for each sample.\\nfor i in range(2):\\n\\n    # PCA-created features.\\n    x_sub = ypred[\\\"pca_f1_sample{}\\\".format(i)]\\n    y_sub = ypred[\\\"pca_f2_sample{}\\\".format(i)]\\n\\n    # Cluster assignments.\\n    c = ypred[\\\"clust{}_sample{}\\\".format(cluster, i)]\\n\\n    # Assign the subplot to its place on the grid.\\n    axarr[i].scatter(x_sub, y_sub, c=c)\\n    axarr[i].set_title(\\\"sample {}\\\".format(i))\\n\\n    # Space out the plots so that the headings don't overlap axis values.\\n# plt.suptitle(\\\"{} Clusters\\\".format(cluster), fontsize=20)\\nplt.tight_layout()\\nplt.show()\\nprint(\\\"\\\\n\\\")\";\n",
       "                var nbb_formatted_code = \"# Make a grid of subplots.\\nf, axarr = plt.subplots(1, 2)\\n\\n# Make a plot for each sample.\\nfor i in range(2):\\n\\n    # PCA-created features.\\n    x_sub = ypred[\\\"pca_f1_sample{}\\\".format(i)]\\n    y_sub = ypred[\\\"pca_f2_sample{}\\\".format(i)]\\n\\n    # Cluster assignments.\\n    c = ypred[\\\"clust{}_sample{}\\\".format(cluster, i)]\\n\\n    # Assign the subplot to its place on the grid.\\n    axarr[i].scatter(x_sub, y_sub, c=c)\\n    axarr[i].set_title(\\\"sample {}\\\".format(i))\\n\\n    # Space out the plots so that the headings don't overlap axis values.\\n# plt.suptitle(\\\"{} Clusters\\\".format(cluster), fontsize=20)\\nplt.tight_layout()\\nplt.show()\\nprint(\\\"\\\\n\\\")\";\n",
       "                var nbb_cells = Jupyter.notebook.get_cells();\n",
       "                for (var i = 0; i < nbb_cells.length; ++i) {\n",
       "                    if (nbb_cells[i].input_prompt_number == nbb_cell_id) {\n",
       "                        if (nbb_cells[i].get_text() == nbb_unformatted_code) {\n",
       "                             nbb_cells[i].set_text(nbb_formatted_code);\n",
       "                        }\n",
       "                        break;\n",
       "                    }\n",
       "                }\n",
       "            }, 500);\n",
       "            "
      ],
      "text/plain": [
       "<IPython.core.display.Javascript object>"
      ]
     },
     "metadata": {},
     "output_type": "display_data"
    }
   ],
   "source": [
    "f, axarr = plt.subplots(1, 2)\n",
    "\n",
    "for i in range(2):\n",
    "\n",
    "    x_sub = ypred[\"pca_f1_sample{}\".format(i)]\n",
    "    y_sub = ypred[\"pca_f2_sample{}\".format(i)]\n",
    "\n",
    "    # Cluster assignments.\n",
    "    c = ypred[\"clust{}_sample{}\".format(cluster, i)]\n",
    "\n",
    "    # Assign the subplot to its place on the grid.\n",
    "    axarr[i].scatter(x_sub, y_sub, c=c)\n",
    "    axarr[i].set_title(\"sample {}\".format(i))\n",
    "    \n",
    "plt.tight_layout()\n",
    "plt.show()\n",
    "print(\"\\n\")"
   ]
  },
  {
   "cell_type": "markdown",
   "metadata": {},
   "source": [
    "### 2nd attemp "
   ]
  },
  {
   "cell_type": "code",
   "execution_count": 111,
   "metadata": {},
   "outputs": [
    {
     "data": {
      "application/javascript": [
       "\n",
       "            setTimeout(function() {\n",
       "                var nbb_cell_id = 110;\n",
       "                var nbb_unformatted_code = \"pd.DataFrame(km.cluster_centers_,columns = X.columns)\";\n",
       "                var nbb_formatted_code = \"pd.DataFrame(km.cluster_centers_, columns=X.columns)\";\n",
       "                var nbb_cells = Jupyter.notebook.get_cells();\n",
       "                for (var i = 0; i < nbb_cells.length; ++i) {\n",
       "                    if (nbb_cells[i].input_prompt_number == nbb_cell_id) {\n",
       "                        if (nbb_cells[i].get_text() == nbb_unformatted_code) {\n",
       "                             nbb_cells[i].set_text(nbb_formatted_code);\n",
       "                        }\n",
       "                        break;\n",
       "                    }\n",
       "                }\n",
       "            }, 500);\n",
       "            "
      ],
      "text/plain": [
       "<IPython.core.display.Javascript object>"
      ]
     },
     "metadata": {},
     "output_type": "display_data"
    }
   ],
   "source": [
    "scaler = StandardScaler()\n",
    "scaled = scaler.fit_transform(yr_2014)"
   ]
  },
  {
   "cell_type": "code",
   "execution_count": 112,
   "metadata": {
    "scrolled": true
   },
   "outputs": [
    {
     "data": {
      "application/javascript": [
       "\n",
       "            setTimeout(function() {\n",
       "                var nbb_cell_id = 111;\n",
       "                var nbb_unformatted_code = \"scaler = StandardScaler()\\nscaled = scaler.fit_transform(yr_2014)\";\n",
       "                var nbb_formatted_code = \"scaler = StandardScaler()\\nscaled = scaler.fit_transform(yr_2014)\";\n",
       "                var nbb_cells = Jupyter.notebook.get_cells();\n",
       "                for (var i = 0; i < nbb_cells.length; ++i) {\n",
       "                    if (nbb_cells[i].input_prompt_number == nbb_cell_id) {\n",
       "                        if (nbb_cells[i].get_text() == nbb_unformatted_code) {\n",
       "                             nbb_cells[i].set_text(nbb_formatted_code);\n",
       "                        }\n",
       "                        break;\n",
       "                    }\n",
       "                }\n",
       "            }, 500);\n",
       "            "
      ],
      "text/plain": [
       "<IPython.core.display.Javascript object>"
      ]
     },
     "metadata": {},
     "output_type": "display_data"
    }
   ],
   "source": [
    "km = KMeans(n_clusters=4)\n",
    "km.fit(scaled)\n",
    "pca = PCA(n_components=2)\n",
    "X_pca = pca.fit_transform(scaled)"
   ]
  },
  {
   "cell_type": "code",
   "execution_count": 113,
   "metadata": {
    "scrolled": true
   },
   "outputs": [
    {
     "data": {
      "text/html": [
       "<div>\n",
       "<style scoped>\n",
       "    .dataframe tbody tr th:only-of-type {\n",
       "        vertical-align: middle;\n",
       "    }\n",
       "\n",
       "    .dataframe tbody tr th {\n",
       "        vertical-align: top;\n",
       "    }\n",
       "\n",
       "    .dataframe thead th {\n",
       "        text-align: right;\n",
       "    }\n",
       "</style>\n",
       "<table border=\"1\" class=\"dataframe\">\n",
       "  <thead>\n",
       "    <tr style=\"text-align: right;\">\n",
       "      <th></th>\n",
       "      <th>10k</th>\n",
       "      <th>division</th>\n",
       "      <th>25k</th>\n",
       "      <th>age</th>\n",
       "      <th>official</th>\n",
       "      <th>genderdiv</th>\n",
       "      <th>35k</th>\n",
       "      <th>overall</th>\n",
       "      <th>pace</th>\n",
       "      <th>30k</th>\n",
       "      <th>5k</th>\n",
       "      <th>half</th>\n",
       "      <th>20k</th>\n",
       "      <th>40k</th>\n",
       "      <th>gender_M</th>\n",
       "      <th>label</th>\n",
       "    </tr>\n",
       "  </thead>\n",
       "  <tbody>\n",
       "    <tr>\n",
       "      <th>0</th>\n",
       "      <td>-1.114510</td>\n",
       "      <td>-0.524265</td>\n",
       "      <td>-1.081023</td>\n",
       "      <td>-0.359672</td>\n",
       "      <td>-1.071930</td>\n",
       "      <td>-1.025714</td>\n",
       "      <td>-1.070310</td>\n",
       "      <td>-1.262493</td>\n",
       "      <td>-1.071973</td>\n",
       "      <td>-1.073165</td>\n",
       "      <td>-1.113963</td>\n",
       "      <td>-1.093868</td>\n",
       "      <td>-1.094454</td>\n",
       "      <td>-1.071169</td>\n",
       "      <td>0.617721</td>\n",
       "      <td>0.105208</td>\n",
       "    </tr>\n",
       "    <tr>\n",
       "      <th>1</th>\n",
       "      <td>1.712830</td>\n",
       "      <td>1.130201</td>\n",
       "      <td>1.846583</td>\n",
       "      <td>-0.108604</td>\n",
       "      <td>1.822851</td>\n",
       "      <td>1.371052</td>\n",
       "      <td>1.859085</td>\n",
       "      <td>1.478665</td>\n",
       "      <td>1.822828</td>\n",
       "      <td>1.863447</td>\n",
       "      <td>1.643274</td>\n",
       "      <td>1.813025</td>\n",
       "      <td>1.808770</td>\n",
       "      <td>1.834081</td>\n",
       "      <td>-0.230674</td>\n",
       "      <td>-0.362541</td>\n",
       "    </tr>\n",
       "    <tr>\n",
       "      <th>2</th>\n",
       "      <td>-0.265240</td>\n",
       "      <td>-0.229853</td>\n",
       "      <td>-0.303139</td>\n",
       "      <td>0.070152</td>\n",
       "      <td>-0.329898</td>\n",
       "      <td>-0.336892</td>\n",
       "      <td>-0.326436</td>\n",
       "      <td>-0.226755</td>\n",
       "      <td>-0.329886</td>\n",
       "      <td>-0.316364</td>\n",
       "      <td>-0.255144</td>\n",
       "      <td>-0.289702</td>\n",
       "      <td>-0.288667</td>\n",
       "      <td>-0.330361</td>\n",
       "      <td>-0.308765</td>\n",
       "      <td>0.047690</td>\n",
       "    </tr>\n",
       "    <tr>\n",
       "      <th>3</th>\n",
       "      <td>0.597483</td>\n",
       "      <td>0.254043</td>\n",
       "      <td>0.544435</td>\n",
       "      <td>0.329339</td>\n",
       "      <td>0.585101</td>\n",
       "      <td>0.789024</td>\n",
       "      <td>0.559237</td>\n",
       "      <td>0.820895</td>\n",
       "      <td>0.585140</td>\n",
       "      <td>0.545792</td>\n",
       "      <td>0.620040</td>\n",
       "      <td>0.556827</td>\n",
       "      <td>0.558261</td>\n",
       "      <td>0.578961</td>\n",
       "      <td>-0.080038</td>\n",
       "      <td>0.019423</td>\n",
       "    </tr>\n",
       "  </tbody>\n",
       "</table>\n",
       "</div>"
      ],
      "text/plain": [
       "        10k  division       25k       age  official  genderdiv       35k  \\\n",
       "0 -1.114510 -0.524265 -1.081023 -0.359672 -1.071930  -1.025714 -1.070310   \n",
       "1  1.712830  1.130201  1.846583 -0.108604  1.822851   1.371052  1.859085   \n",
       "2 -0.265240 -0.229853 -0.303139  0.070152 -0.329898  -0.336892 -0.326436   \n",
       "3  0.597483  0.254043  0.544435  0.329339  0.585101   0.789024  0.559237   \n",
       "\n",
       "    overall      pace       30k        5k      half       20k       40k  \\\n",
       "0 -1.262493 -1.071973 -1.073165 -1.113963 -1.093868 -1.094454 -1.071169   \n",
       "1  1.478665  1.822828  1.863447  1.643274  1.813025  1.808770  1.834081   \n",
       "2 -0.226755 -0.329886 -0.316364 -0.255144 -0.289702 -0.288667 -0.330361   \n",
       "3  0.820895  0.585140  0.545792  0.620040  0.556827  0.558261  0.578961   \n",
       "\n",
       "   gender_M     label  \n",
       "0  0.617721  0.105208  \n",
       "1 -0.230674 -0.362541  \n",
       "2 -0.308765  0.047690  \n",
       "3 -0.080038  0.019423  "
      ]
     },
     "execution_count": 113,
     "metadata": {},
     "output_type": "execute_result"
    },
    {
     "data": {
      "application/javascript": [
       "\n",
       "            setTimeout(function() {\n",
       "                var nbb_cell_id = 112;\n",
       "                var nbb_unformatted_code = \"km = KMeans(n_clusters=4)\\nkm.fit(scaled)\\npca = PCA(n_components=2)\\nX_pca = pca.fit_transform(scaled)\";\n",
       "                var nbb_formatted_code = \"km = KMeans(n_clusters=4)\\nkm.fit(scaled)\\npca = PCA(n_components=2)\\nX_pca = pca.fit_transform(scaled)\";\n",
       "                var nbb_cells = Jupyter.notebook.get_cells();\n",
       "                for (var i = 0; i < nbb_cells.length; ++i) {\n",
       "                    if (nbb_cells[i].input_prompt_number == nbb_cell_id) {\n",
       "                        if (nbb_cells[i].get_text() == nbb_unformatted_code) {\n",
       "                             nbb_cells[i].set_text(nbb_formatted_code);\n",
       "                        }\n",
       "                        break;\n",
       "                    }\n",
       "                }\n",
       "            }, 500);\n",
       "            "
      ],
      "text/plain": [
       "<IPython.core.display.Javascript object>"
      ]
     },
     "metadata": {},
     "output_type": "display_data"
    }
   ],
   "source": [
    "pd.DataFrame(km.cluster_centers_, columns=yr_2014.columns)"
   ]
  },
  {
   "cell_type": "code",
   "execution_count": 117,
   "metadata": {},
   "outputs": [
    {
     "data": {
      "text/html": [
       "<style  type=\"text/css\" >\n",
       "    #T_b4de93f0_074d_11eb_afb7_40ec99f34421row0_col0 {\n",
       "            background-color:  #fef6fa;\n",
       "            color:  #000000;\n",
       "        }    #T_b4de93f0_074d_11eb_afb7_40ec99f34421row0_col1 {\n",
       "            background-color:  #fff7fb;\n",
       "            color:  #000000;\n",
       "        }    #T_b4de93f0_074d_11eb_afb7_40ec99f34421row0_col2 {\n",
       "            background-color:  #fff7fb;\n",
       "            color:  #000000;\n",
       "        }    #T_b4de93f0_074d_11eb_afb7_40ec99f34421row0_col3 {\n",
       "            background-color:  #fff7fb;\n",
       "            color:  #000000;\n",
       "        }    #T_b4de93f0_074d_11eb_afb7_40ec99f34421row1_col0 {\n",
       "            background-color:  #d2d2e7;\n",
       "            color:  #000000;\n",
       "        }    #T_b4de93f0_074d_11eb_afb7_40ec99f34421row1_col1 {\n",
       "            background-color:  #ebe6f2;\n",
       "            color:  #000000;\n",
       "        }    #T_b4de93f0_074d_11eb_afb7_40ec99f34421row1_col2 {\n",
       "            background-color:  #eee9f3;\n",
       "            color:  #000000;\n",
       "        }    #T_b4de93f0_074d_11eb_afb7_40ec99f34421row1_col3 {\n",
       "            background-color:  #f0eaf4;\n",
       "            color:  #000000;\n",
       "        }    #T_b4de93f0_074d_11eb_afb7_40ec99f34421row2_col0 {\n",
       "            background-color:  #fbf4f9;\n",
       "            color:  #000000;\n",
       "        }    #T_b4de93f0_074d_11eb_afb7_40ec99f34421row2_col1 {\n",
       "            background-color:  #fef6fb;\n",
       "            color:  #000000;\n",
       "        }    #T_b4de93f0_074d_11eb_afb7_40ec99f34421row2_col2 {\n",
       "            background-color:  #fef6fa;\n",
       "            color:  #000000;\n",
       "        }    #T_b4de93f0_074d_11eb_afb7_40ec99f34421row2_col3 {\n",
       "            background-color:  #fef6fb;\n",
       "            color:  #000000;\n",
       "        }    #T_b4de93f0_074d_11eb_afb7_40ec99f34421row3_col0 {\n",
       "            background-color:  #fef6fa;\n",
       "            color:  #000000;\n",
       "        }    #T_b4de93f0_074d_11eb_afb7_40ec99f34421row3_col1 {\n",
       "            background-color:  #fff7fb;\n",
       "            color:  #000000;\n",
       "        }    #T_b4de93f0_074d_11eb_afb7_40ec99f34421row3_col2 {\n",
       "            background-color:  #fff7fb;\n",
       "            color:  #000000;\n",
       "        }    #T_b4de93f0_074d_11eb_afb7_40ec99f34421row3_col3 {\n",
       "            background-color:  #fff7fb;\n",
       "            color:  #000000;\n",
       "        }    #T_b4de93f0_074d_11eb_afb7_40ec99f34421row4_col0 {\n",
       "            background-color:  #f8f1f8;\n",
       "            color:  #000000;\n",
       "        }    #T_b4de93f0_074d_11eb_afb7_40ec99f34421row4_col1 {\n",
       "            background-color:  #fef6fa;\n",
       "            color:  #000000;\n",
       "        }    #T_b4de93f0_074d_11eb_afb7_40ec99f34421row4_col2 {\n",
       "            background-color:  #fdf5fa;\n",
       "            color:  #000000;\n",
       "        }    #T_b4de93f0_074d_11eb_afb7_40ec99f34421row4_col3 {\n",
       "            background-color:  #fef6fa;\n",
       "            color:  #000000;\n",
       "        }    #T_b4de93f0_074d_11eb_afb7_40ec99f34421row5_col0 {\n",
       "            background-color:  #0872b1;\n",
       "            color:  #f1f1f1;\n",
       "        }    #T_b4de93f0_074d_11eb_afb7_40ec99f34421row5_col1 {\n",
       "            background-color:  #76aad0;\n",
       "            color:  #000000;\n",
       "        }    #T_b4de93f0_074d_11eb_afb7_40ec99f34421row5_col2 {\n",
       "            background-color:  #81aed2;\n",
       "            color:  #000000;\n",
       "        }    #T_b4de93f0_074d_11eb_afb7_40ec99f34421row5_col3 {\n",
       "            background-color:  #73a9cf;\n",
       "            color:  #000000;\n",
       "        }    #T_b4de93f0_074d_11eb_afb7_40ec99f34421row6_col0 {\n",
       "            background-color:  #faf2f8;\n",
       "            color:  #000000;\n",
       "        }    #T_b4de93f0_074d_11eb_afb7_40ec99f34421row6_col1 {\n",
       "            background-color:  #fef6fa;\n",
       "            color:  #000000;\n",
       "        }    #T_b4de93f0_074d_11eb_afb7_40ec99f34421row6_col2 {\n",
       "            background-color:  #fdf5fa;\n",
       "            color:  #000000;\n",
       "        }    #T_b4de93f0_074d_11eb_afb7_40ec99f34421row6_col3 {\n",
       "            background-color:  #fef6fa;\n",
       "            color:  #000000;\n",
       "        }    #T_b4de93f0_074d_11eb_afb7_40ec99f34421row7_col0 {\n",
       "            background-color:  #023858;\n",
       "            color:  #f1f1f1;\n",
       "        }    #T_b4de93f0_074d_11eb_afb7_40ec99f34421row7_col1 {\n",
       "            background-color:  #023858;\n",
       "            color:  #f1f1f1;\n",
       "        }    #T_b4de93f0_074d_11eb_afb7_40ec99f34421row7_col2 {\n",
       "            background-color:  #023858;\n",
       "            color:  #f1f1f1;\n",
       "        }    #T_b4de93f0_074d_11eb_afb7_40ec99f34421row7_col3 {\n",
       "            background-color:  #023858;\n",
       "            color:  #f1f1f1;\n",
       "        }    #T_b4de93f0_074d_11eb_afb7_40ec99f34421row8_col0 {\n",
       "            background-color:  #fff7fb;\n",
       "            color:  #000000;\n",
       "        }    #T_b4de93f0_074d_11eb_afb7_40ec99f34421row8_col1 {\n",
       "            background-color:  #fff7fb;\n",
       "            color:  #000000;\n",
       "        }    #T_b4de93f0_074d_11eb_afb7_40ec99f34421row8_col2 {\n",
       "            background-color:  #fff7fb;\n",
       "            color:  #000000;\n",
       "        }    #T_b4de93f0_074d_11eb_afb7_40ec99f34421row8_col3 {\n",
       "            background-color:  #fff7fb;\n",
       "            color:  #000000;\n",
       "        }    #T_b4de93f0_074d_11eb_afb7_40ec99f34421row9_col0 {\n",
       "            background-color:  #fbf3f9;\n",
       "            color:  #000000;\n",
       "        }    #T_b4de93f0_074d_11eb_afb7_40ec99f34421row9_col1 {\n",
       "            background-color:  #fef6fb;\n",
       "            color:  #000000;\n",
       "        }    #T_b4de93f0_074d_11eb_afb7_40ec99f34421row9_col2 {\n",
       "            background-color:  #fef6fa;\n",
       "            color:  #000000;\n",
       "        }    #T_b4de93f0_074d_11eb_afb7_40ec99f34421row9_col3 {\n",
       "            background-color:  #fef6fb;\n",
       "            color:  #000000;\n",
       "        }    #T_b4de93f0_074d_11eb_afb7_40ec99f34421row10_col0 {\n",
       "            background-color:  #fef6fb;\n",
       "            color:  #000000;\n",
       "        }    #T_b4de93f0_074d_11eb_afb7_40ec99f34421row10_col1 {\n",
       "            background-color:  #fff7fb;\n",
       "            color:  #000000;\n",
       "        }    #T_b4de93f0_074d_11eb_afb7_40ec99f34421row10_col2 {\n",
       "            background-color:  #fff7fb;\n",
       "            color:  #000000;\n",
       "        }    #T_b4de93f0_074d_11eb_afb7_40ec99f34421row10_col3 {\n",
       "            background-color:  #fff7fb;\n",
       "            color:  #000000;\n",
       "        }    #T_b4de93f0_074d_11eb_afb7_40ec99f34421row11_col0 {\n",
       "            background-color:  #fcf4fa;\n",
       "            color:  #000000;\n",
       "        }    #T_b4de93f0_074d_11eb_afb7_40ec99f34421row11_col1 {\n",
       "            background-color:  #fef6fb;\n",
       "            color:  #000000;\n",
       "        }    #T_b4de93f0_074d_11eb_afb7_40ec99f34421row11_col2 {\n",
       "            background-color:  #fef6fb;\n",
       "            color:  #000000;\n",
       "        }    #T_b4de93f0_074d_11eb_afb7_40ec99f34421row11_col3 {\n",
       "            background-color:  #fef6fb;\n",
       "            color:  #000000;\n",
       "        }    #T_b4de93f0_074d_11eb_afb7_40ec99f34421row12_col0 {\n",
       "            background-color:  #fcf4fa;\n",
       "            color:  #000000;\n",
       "        }    #T_b4de93f0_074d_11eb_afb7_40ec99f34421row12_col1 {\n",
       "            background-color:  #fef6fb;\n",
       "            color:  #000000;\n",
       "        }    #T_b4de93f0_074d_11eb_afb7_40ec99f34421row12_col2 {\n",
       "            background-color:  #fef6fb;\n",
       "            color:  #000000;\n",
       "        }    #T_b4de93f0_074d_11eb_afb7_40ec99f34421row12_col3 {\n",
       "            background-color:  #fef6fb;\n",
       "            color:  #000000;\n",
       "        }    #T_b4de93f0_074d_11eb_afb7_40ec99f34421row13_col0 {\n",
       "            background-color:  #f9f2f8;\n",
       "            color:  #000000;\n",
       "        }    #T_b4de93f0_074d_11eb_afb7_40ec99f34421row13_col1 {\n",
       "            background-color:  #fef6fa;\n",
       "            color:  #000000;\n",
       "        }    #T_b4de93f0_074d_11eb_afb7_40ec99f34421row13_col2 {\n",
       "            background-color:  #fdf5fa;\n",
       "            color:  #000000;\n",
       "        }    #T_b4de93f0_074d_11eb_afb7_40ec99f34421row13_col3 {\n",
       "            background-color:  #fef6fa;\n",
       "            color:  #000000;\n",
       "        }    #T_b4de93f0_074d_11eb_afb7_40ec99f34421row14_col0 {\n",
       "            background-color:  #fff7fb;\n",
       "            color:  #000000;\n",
       "        }    #T_b4de93f0_074d_11eb_afb7_40ec99f34421row14_col1 {\n",
       "            background-color:  #fff7fb;\n",
       "            color:  #000000;\n",
       "        }    #T_b4de93f0_074d_11eb_afb7_40ec99f34421row14_col2 {\n",
       "            background-color:  #fff7fb;\n",
       "            color:  #000000;\n",
       "        }    #T_b4de93f0_074d_11eb_afb7_40ec99f34421row14_col3 {\n",
       "            background-color:  #fff7fb;\n",
       "            color:  #000000;\n",
       "        }    #T_b4de93f0_074d_11eb_afb7_40ec99f34421row15_col0 {\n",
       "            background-color:  #fff7fb;\n",
       "            color:  #000000;\n",
       "        }    #T_b4de93f0_074d_11eb_afb7_40ec99f34421row15_col1 {\n",
       "            background-color:  #fff7fb;\n",
       "            color:  #000000;\n",
       "        }    #T_b4de93f0_074d_11eb_afb7_40ec99f34421row15_col2 {\n",
       "            background-color:  #fff7fb;\n",
       "            color:  #000000;\n",
       "        }    #T_b4de93f0_074d_11eb_afb7_40ec99f34421row15_col3 {\n",
       "            background-color:  #fff7fb;\n",
       "            color:  #000000;\n",
       "        }</style><table id=\"T_b4de93f0_074d_11eb_afb7_40ec99f34421\" ><thead>    <tr>        <th class=\"blank level0\" ></th>        <th class=\"col_heading level0 col0\" >0</th>        <th class=\"col_heading level0 col1\" >1</th>        <th class=\"col_heading level0 col2\" >2</th>        <th class=\"col_heading level0 col3\" >3</th>    </tr></thead><tbody>\n",
       "                <tr>\n",
       "                        <th id=\"T_b4de93f0_074d_11eb_afb7_40ec99f34421level0_row0\" class=\"row_heading level0 row0\" >10k</th>\n",
       "                        <td id=\"T_b4de93f0_074d_11eb_afb7_40ec99f34421row0_col0\" class=\"data row0 col0\" >41.921489</td>\n",
       "                        <td id=\"T_b4de93f0_074d_11eb_afb7_40ec99f34421row0_col1\" class=\"data row0 col1\" >66.547887</td>\n",
       "                        <td id=\"T_b4de93f0_074d_11eb_afb7_40ec99f34421row0_col2\" class=\"data row0 col2\" >49.318707</td>\n",
       "                        <td id=\"T_b4de93f0_074d_11eb_afb7_40ec99f34421row0_col3\" class=\"data row0 col3\" >56.833113</td>\n",
       "            </tr>\n",
       "            <tr>\n",
       "                        <th id=\"T_b4de93f0_074d_11eb_afb7_40ec99f34421level0_row1\" class=\"row_heading level0 row1\" >division</th>\n",
       "                        <td id=\"T_b4de93f0_074d_11eb_afb7_40ec99f34421row1_col0\" class=\"data row1 col0\" >1028.975155</td>\n",
       "                        <td id=\"T_b4de93f0_074d_11eb_afb7_40ec99f34421row1_col1\" class=\"data row1 col1\" >3849.577004</td>\n",
       "                        <td id=\"T_b4de93f0_074d_11eb_afb7_40ec99f34421row1_col2\" class=\"data row1 col2\" >1530.901040</td>\n",
       "                        <td id=\"T_b4de93f0_074d_11eb_afb7_40ec99f34421row1_col3\" class=\"data row1 col3\" >2355.866783</td>\n",
       "            </tr>\n",
       "            <tr>\n",
       "                        <th id=\"T_b4de93f0_074d_11eb_afb7_40ec99f34421level0_row2\" class=\"row_heading level0 row2\" >25k</th>\n",
       "                        <td id=\"T_b4de93f0_074d_11eb_afb7_40ec99f34421row2_col0\" class=\"data row2 col0\" >105.937781</td>\n",
       "                        <td id=\"T_b4de93f0_074d_11eb_afb7_40ec99f34421row2_col1\" class=\"data row2 col1\" >180.800989</td>\n",
       "                        <td id=\"T_b4de93f0_074d_11eb_afb7_40ec99f34421row2_col2\" class=\"data row2 col2\" >125.829417</td>\n",
       "                        <td id=\"T_b4de93f0_074d_11eb_afb7_40ec99f34421row2_col3\" class=\"data row2 col3\" >147.503133</td>\n",
       "            </tr>\n",
       "            <tr>\n",
       "                        <th id=\"T_b4de93f0_074d_11eb_afb7_40ec99f34421level0_row3\" class=\"row_heading level0 row3\" >age</th>\n",
       "                        <td id=\"T_b4de93f0_074d_11eb_afb7_40ec99f34421row3_col0\" class=\"data row3 col0\" >38.320546</td>\n",
       "                        <td id=\"T_b4de93f0_074d_11eb_afb7_40ec99f34421row3_col1\" class=\"data row3 col1\" >41.157513</td>\n",
       "                        <td id=\"T_b4de93f0_074d_11eb_afb7_40ec99f34421row3_col2\" class=\"data row3 col2\" >43.177393</td>\n",
       "                        <td id=\"T_b4de93f0_074d_11eb_afb7_40ec99f34421row3_col3\" class=\"data row3 col3\" >46.106098</td>\n",
       "            </tr>\n",
       "            <tr>\n",
       "                        <th id=\"T_b4de93f0_074d_11eb_afb7_40ec99f34421level0_row4\" class=\"row_heading level0 row4\" >official</th>\n",
       "                        <td id=\"T_b4de93f0_074d_11eb_afb7_40ec99f34421row4_col0\" class=\"data row4 col0\" >187.453199</td>\n",
       "                        <td id=\"T_b4de93f0_074d_11eb_afb7_40ec99f34421row4_col1\" class=\"data row4 col1\" >334.631091</td>\n",
       "                        <td id=\"T_b4de93f0_074d_11eb_afb7_40ec99f34421row4_col2\" class=\"data row4 col2\" >225.179996</td>\n",
       "                        <td id=\"T_b4de93f0_074d_11eb_afb7_40ec99f34421row4_col3\" class=\"data row4 col3\" >271.700820</td>\n",
       "            </tr>\n",
       "            <tr>\n",
       "                        <th id=\"T_b4de93f0_074d_11eb_afb7_40ec99f34421level0_row5\" class=\"row_heading level0 row5\" >genderdiv</th>\n",
       "                        <td id=\"T_b4de93f0_074d_11eb_afb7_40ec99f34421row5_col0\" class=\"data row5 col0\" >3147.910364</td>\n",
       "                        <td id=\"T_b4de93f0_074d_11eb_afb7_40ec99f34421row5_col1\" class=\"data row5 col1\" >14492.393784</td>\n",
       "                        <td id=\"T_b4de93f0_074d_11eb_afb7_40ec99f34421row5_col2\" class=\"data row5 col2\" >6408.272678</td>\n",
       "                        <td id=\"T_b4de93f0_074d_11eb_afb7_40ec99f34421row5_col3\" class=\"data row5 col3\" >11737.512122</td>\n",
       "            </tr>\n",
       "            <tr>\n",
       "                        <th id=\"T_b4de93f0_074d_11eb_afb7_40ec99f34421level0_row6\" class=\"row_heading level0 row6\" >35k</th>\n",
       "                        <td id=\"T_b4de93f0_074d_11eb_afb7_40ec99f34421row6_col0\" class=\"data row6 col0\" >152.391649</td>\n",
       "                        <td id=\"T_b4de93f0_074d_11eb_afb7_40ec99f34421row6_col1\" class=\"data row6 col1\" >271.837820</td>\n",
       "                        <td id=\"T_b4de93f0_074d_11eb_afb7_40ec99f34421row6_col2\" class=\"data row6 col2\" >182.723141</td>\n",
       "                        <td id=\"T_b4de93f0_074d_11eb_afb7_40ec99f34421row6_col3\" class=\"data row6 col3\" >218.836455</td>\n",
       "            </tr>\n",
       "            <tr>\n",
       "                        <th id=\"T_b4de93f0_074d_11eb_afb7_40ec99f34421level0_row7\" class=\"row_heading level0 row7\" >overall</th>\n",
       "                        <td id=\"T_b4de93f0_074d_11eb_afb7_40ec99f34421row7_col0\" class=\"data row7 col0\" >4241.497991</td>\n",
       "                        <td id=\"T_b4de93f0_074d_11eb_afb7_40ec99f34421row7_col1\" class=\"data row7 col1\" >29411.420425</td>\n",
       "                        <td id=\"T_b4de93f0_074d_11eb_afb7_40ec99f34421row7_col2\" class=\"data row7 col2\" >13751.878630</td>\n",
       "                        <td id=\"T_b4de93f0_074d_11eb_afb7_40ec99f34421row7_col3\" class=\"data row7 col3\" >23371.626593</td>\n",
       "            </tr>\n",
       "            <tr>\n",
       "                        <th id=\"T_b4de93f0_074d_11eb_afb7_40ec99f34421level0_row8\" class=\"row_heading level0 row8\" >pace</th>\n",
       "                        <td id=\"T_b4de93f0_074d_11eb_afb7_40ec99f34421row8_col0\" class=\"data row8 col0\" >7.157765</td>\n",
       "                        <td id=\"T_b4de93f0_074d_11eb_afb7_40ec99f34421row8_col1\" class=\"data row8 col1\" >12.771213</td>\n",
       "                        <td id=\"T_b4de93f0_074d_11eb_afb7_40ec99f34421row8_col2\" class=\"data row8 col2\" >8.596783</td>\n",
       "                        <td id=\"T_b4de93f0_074d_11eb_afb7_40ec99f34421row8_col3\" class=\"data row8 col3\" >10.371153</td>\n",
       "            </tr>\n",
       "            <tr>\n",
       "                        <th id=\"T_b4de93f0_074d_11eb_afb7_40ec99f34421level0_row9\" class=\"row_heading level0 row9\" >30k</th>\n",
       "                        <td id=\"T_b4de93f0_074d_11eb_afb7_40ec99f34421row9_col0\" class=\"data row9 col0\" >128.599246</td>\n",
       "                        <td id=\"T_b4de93f0_074d_11eb_afb7_40ec99f34421row9_col1\" class=\"data row9 col1\" >225.182501</td>\n",
       "                        <td id=\"T_b4de93f0_074d_11eb_afb7_40ec99f34421row9_col2\" class=\"data row9 col2\" >153.489944</td>\n",
       "                        <td id=\"T_b4de93f0_074d_11eb_afb7_40ec99f34421row9_col3\" class=\"data row9 col3\" >181.845686</td>\n",
       "            </tr>\n",
       "            <tr>\n",
       "                        <th id=\"T_b4de93f0_074d_11eb_afb7_40ec99f34421level0_row10\" class=\"row_heading level0 row10\" >5k</th>\n",
       "                        <td id=\"T_b4de93f0_074d_11eb_afb7_40ec99f34421row10_col0\" class=\"data row10 col0\" >20.982450</td>\n",
       "                        <td id=\"T_b4de93f0_074d_11eb_afb7_40ec99f34421row10_col1\" class=\"data row10 col1\" >32.605240</td>\n",
       "                        <td id=\"T_b4de93f0_074d_11eb_afb7_40ec99f34421row10_col2\" class=\"data row10 col2\" >24.602695</td>\n",
       "                        <td id=\"T_b4de93f0_074d_11eb_afb7_40ec99f34421row10_col3\" class=\"data row10 col3\" >28.291922</td>\n",
       "            </tr>\n",
       "            <tr>\n",
       "                        <th id=\"T_b4de93f0_074d_11eb_afb7_40ec99f34421level0_row11\" class=\"row_heading level0 row11\" >half</th>\n",
       "                        <td id=\"T_b4de93f0_074d_11eb_afb7_40ec99f34421row11_col0\" class=\"data row11 col0\" >88.998884</td>\n",
       "                        <td id=\"T_b4de93f0_074d_11eb_afb7_40ec99f34421row11_col1\" class=\"data row11 col1\" >148.027362</td>\n",
       "                        <td id=\"T_b4de93f0_074d_11eb_afb7_40ec99f34421row11_col2\" class=\"data row11 col2\" >105.328594</td>\n",
       "                        <td id=\"T_b4de93f0_074d_11eb_afb7_40ec99f34421row11_col3\" class=\"data row11 col3\" >122.518534</td>\n",
       "            </tr>\n",
       "            <tr>\n",
       "                        <th id=\"T_b4de93f0_074d_11eb_afb7_40ec99f34421level0_row12\" class=\"row_heading level0 row12\" >20k</th>\n",
       "                        <td id=\"T_b4de93f0_074d_11eb_afb7_40ec99f34421row12_col0\" class=\"data row12 col0\" >84.352137</td>\n",
       "                        <td id=\"T_b4de93f0_074d_11eb_afb7_40ec99f34421row12_col1\" class=\"data row12 col1\" >139.976429</td>\n",
       "                        <td id=\"T_b4de93f0_074d_11eb_afb7_40ec99f34421row12_col2\" class=\"data row12 col2\" >99.790597</td>\n",
       "                        <td id=\"T_b4de93f0_074d_11eb_afb7_40ec99f34421row12_col3\" class=\"data row12 col3\" >116.017324</td>\n",
       "            </tr>\n",
       "            <tr>\n",
       "                        <th id=\"T_b4de93f0_074d_11eb_afb7_40ec99f34421level0_row13\" class=\"row_heading level0 row13\" >40k</th>\n",
       "                        <td id=\"T_b4de93f0_074d_11eb_afb7_40ec99f34421row13_col0\" class=\"data row13 col0\" >176.694507</td>\n",
       "                        <td id=\"T_b4de93f0_074d_11eb_afb7_40ec99f34421row13_col1\" class=\"data row13 col1\" >316.362807</td>\n",
       "                        <td id=\"T_b4de93f0_074d_11eb_afb7_40ec99f34421row13_col2\" class=\"data row13 col2\" >212.308414</td>\n",
       "                        <td id=\"T_b4de93f0_074d_11eb_afb7_40ec99f34421row13_col3\" class=\"data row13 col3\" >256.023593</td>\n",
       "            </tr>\n",
       "            <tr>\n",
       "                        <th id=\"T_b4de93f0_074d_11eb_afb7_40ec99f34421level0_row14\" class=\"row_heading level0 row14\" >gender_M</th>\n",
       "                        <td id=\"T_b4de93f0_074d_11eb_afb7_40ec99f34421row14_col0\" class=\"data row14 col0\" >0.859579</td>\n",
       "                        <td id=\"T_b4de93f0_074d_11eb_afb7_40ec99f34421row14_col1\" class=\"data row14 col1\" >0.437719</td>\n",
       "                        <td id=\"T_b4de93f0_074d_11eb_afb7_40ec99f34421row14_col2\" class=\"data row14 col2\" >0.398888</td>\n",
       "                        <td id=\"T_b4de93f0_074d_11eb_afb7_40ec99f34421row14_col3\" class=\"data row14 col3\" >0.512622</td>\n",
       "            </tr>\n",
       "            <tr>\n",
       "                        <th id=\"T_b4de93f0_074d_11eb_afb7_40ec99f34421level0_row15\" class=\"row_heading level0 row15\" >label</th>\n",
       "                        <td id=\"T_b4de93f0_074d_11eb_afb7_40ec99f34421row15_col0\" class=\"data row15 col0\" >0.004506</td>\n",
       "                        <td id=\"T_b4de93f0_074d_11eb_afb7_40ec99f34421row15_col1\" class=\"data row15 col1\" >-0.035055</td>\n",
       "                        <td id=\"T_b4de93f0_074d_11eb_afb7_40ec99f34421row15_col2\" class=\"data row15 col2\" >-0.000359</td>\n",
       "                        <td id=\"T_b4de93f0_074d_11eb_afb7_40ec99f34421row15_col3\" class=\"data row15 col3\" >-0.002749</td>\n",
       "            </tr>\n",
       "    </tbody></table>"
      ],
      "text/plain": [
       "<pandas.io.formats.style.Styler at 0x1a30dc88988>"
      ]
     },
     "execution_count": 117,
     "metadata": {},
     "output_type": "execute_result"
    },
    {
     "data": {
      "application/javascript": [
       "\n",
       "            setTimeout(function() {\n",
       "                var nbb_cell_id = 116;\n",
       "                var nbb_unformatted_code = \"centroids = scaler.inverse_transform(km.cluster_centers_)\\ncentroids_df = pd.DataFrame(centroids,columns=yr_2014.columns)\\ncentroids_df.style.background_gradient()\";\n",
       "                var nbb_formatted_code = \"centroids = scaler.inverse_transform(km.cluster_centers_)\\ncentroids_df = pd.DataFrame(centroids, columns=yr_2014.columns)\\ncentroids_df.style.background_gradient()\";\n",
       "                var nbb_cells = Jupyter.notebook.get_cells();\n",
       "                for (var i = 0; i < nbb_cells.length; ++i) {\n",
       "                    if (nbb_cells[i].input_prompt_number == nbb_cell_id) {\n",
       "                        if (nbb_cells[i].get_text() == nbb_unformatted_code) {\n",
       "                             nbb_cells[i].set_text(nbb_formatted_code);\n",
       "                        }\n",
       "                        break;\n",
       "                    }\n",
       "                }\n",
       "            }, 500);\n",
       "            "
      ],
      "text/plain": [
       "<IPython.core.display.Javascript object>"
      ]
     },
     "metadata": {},
     "output_type": "display_data"
    }
   ],
   "source": [
    "centroids = scaler.inverse_transform(km.cluster_centers_)\n",
    "centroids_df = pd.DataFrame(centroids,columns=yr_2014.columns)\n",
    "centroids_df.T.style.background_gradient()"
   ]
  },
  {
   "cell_type": "markdown",
   "metadata": {},
   "source": [
    "## Using DBSCAN with t-SNE"
   ]
  },
  {
   "cell_type": "code",
   "execution_count": 80,
   "metadata": {},
   "outputs": [
    {
     "name": "stdout",
     "output_type": "stream",
     "text": [
      "[t-SNE] Computing 121 nearest neighbors...\n",
      "[t-SNE] Indexed 31648 samples in 0.112s...\n",
      "[t-SNE] Computed neighbors for 31648 samples in 3.205s...\n",
      "[t-SNE] Computed conditional probabilities for sample 1000 / 31648\n",
      "[t-SNE] Computed conditional probabilities for sample 2000 / 31648\n",
      "[t-SNE] Computed conditional probabilities for sample 3000 / 31648\n",
      "[t-SNE] Computed conditional probabilities for sample 4000 / 31648\n",
      "[t-SNE] Computed conditional probabilities for sample 5000 / 31648\n",
      "[t-SNE] Computed conditional probabilities for sample 6000 / 31648\n",
      "[t-SNE] Computed conditional probabilities for sample 7000 / 31648\n",
      "[t-SNE] Computed conditional probabilities for sample 8000 / 31648\n",
      "[t-SNE] Computed conditional probabilities for sample 9000 / 31648\n",
      "[t-SNE] Computed conditional probabilities for sample 10000 / 31648\n",
      "[t-SNE] Computed conditional probabilities for sample 11000 / 31648\n",
      "[t-SNE] Computed conditional probabilities for sample 12000 / 31648\n",
      "[t-SNE] Computed conditional probabilities for sample 13000 / 31648\n",
      "[t-SNE] Computed conditional probabilities for sample 14000 / 31648\n",
      "[t-SNE] Computed conditional probabilities for sample 15000 / 31648\n",
      "[t-SNE] Computed conditional probabilities for sample 16000 / 31648\n",
      "[t-SNE] Computed conditional probabilities for sample 17000 / 31648\n",
      "[t-SNE] Computed conditional probabilities for sample 18000 / 31648\n",
      "[t-SNE] Computed conditional probabilities for sample 19000 / 31648\n",
      "[t-SNE] Computed conditional probabilities for sample 20000 / 31648\n",
      "[t-SNE] Computed conditional probabilities for sample 21000 / 31648\n",
      "[t-SNE] Computed conditional probabilities for sample 22000 / 31648\n",
      "[t-SNE] Computed conditional probabilities for sample 23000 / 31648\n",
      "[t-SNE] Computed conditional probabilities for sample 24000 / 31648\n",
      "[t-SNE] Computed conditional probabilities for sample 25000 / 31648\n",
      "[t-SNE] Computed conditional probabilities for sample 26000 / 31648\n",
      "[t-SNE] Computed conditional probabilities for sample 27000 / 31648\n",
      "[t-SNE] Computed conditional probabilities for sample 28000 / 31648\n",
      "[t-SNE] Computed conditional probabilities for sample 29000 / 31648\n",
      "[t-SNE] Computed conditional probabilities for sample 30000 / 31648\n",
      "[t-SNE] Computed conditional probabilities for sample 31000 / 31648\n",
      "[t-SNE] Computed conditional probabilities for sample 31648 / 31648\n",
      "[t-SNE] Mean sigma: 0.186550\n",
      "[t-SNE] KL divergence after 250 iterations with early exaggeration: 79.227928\n",
      "[t-SNE] KL divergence after 300 iterations: 3.585223\n"
     ]
    },
    {
     "data": {
      "application/javascript": [
       "\n",
       "            setTimeout(function() {\n",
       "                var nbb_cell_id = 79;\n",
       "                var nbb_unformatted_code = \"ypred\";\n",
       "                var nbb_formatted_code = \"ypred\";\n",
       "                var nbb_cells = Jupyter.notebook.get_cells();\n",
       "                for (var i = 0; i < nbb_cells.length; ++i) {\n",
       "                    if (nbb_cells[i].input_prompt_number == nbb_cell_id) {\n",
       "                        if (nbb_cells[i].get_text() == nbb_unformatted_code) {\n",
       "                             nbb_cells[i].set_text(nbb_formatted_code);\n",
       "                        }\n",
       "                        break;\n",
       "                    }\n",
       "                }\n",
       "            }, 500);\n",
       "            "
      ],
      "text/plain": [
       "<IPython.core.display.Javascript object>"
      ]
     },
     "metadata": {},
     "output_type": "display_data"
    }
   ],
   "source": [
    "tsne = TSNE(n_components=2, verbose=1, perplexity=40, n_iter=300)\n",
    "tsne_results = tsne.fit_transform(scaled)"
   ]
  },
  {
   "cell_type": "code",
   "execution_count": 103,
   "metadata": {},
   "outputs": [
    {
     "data": {
      "application/javascript": [
       "\n",
       "            setTimeout(function() {\n",
       "                var nbb_cell_id = 102;\n",
       "                var nbb_unformatted_code = \"yr_2014[\\\"label\\\"] = dbscan_cluster.labels_\\nyr_2014[\\\"label\\\"].value_counts()\";\n",
       "                var nbb_formatted_code = \"yr_2014[\\\"label\\\"] = dbscan_cluster.labels_\\nyr_2014[\\\"label\\\"].value_counts()\";\n",
       "                var nbb_cells = Jupyter.notebook.get_cells();\n",
       "                for (var i = 0; i < nbb_cells.length; ++i) {\n",
       "                    if (nbb_cells[i].input_prompt_number == nbb_cell_id) {\n",
       "                        if (nbb_cells[i].get_text() == nbb_unformatted_code) {\n",
       "                             nbb_cells[i].set_text(nbb_formatted_code);\n",
       "                        }\n",
       "                        break;\n",
       "                    }\n",
       "                }\n",
       "            }, 500);\n",
       "            "
      ],
      "text/plain": [
       "<IPython.core.display.Javascript object>"
      ]
     },
     "metadata": {},
     "output_type": "display_data"
    }
   ],
   "source": [
    "dbscan_cluster = DBSCAN(eps=1, min_samples=10, metric=\"euclidean\")\n",
    "\n",
    "clusters = dbscan_cluster.fit_predict(scaled)"
   ]
  },
  {
   "cell_type": "code",
   "execution_count": 104,
   "metadata": {},
   "outputs": [
    {
     "data": {
      "text/plain": [
       " 0    31421\n",
       "-1      183\n",
       " 1       44\n",
       "Name: label, dtype: int64"
      ]
     },
     "execution_count": 104,
     "metadata": {},
     "output_type": "execute_result"
    },
    {
     "data": {
      "application/javascript": [
       "\n",
       "            setTimeout(function() {\n",
       "                var nbb_cell_id = 103;\n",
       "                var nbb_unformatted_code = \"dbscan_cluster = DBSCAN(eps=1, min_samples=10, metric=\\\"euclidean\\\")\\n\\nclusters = dbscan_cluster.fit_predict(scaled)\";\n",
       "                var nbb_formatted_code = \"dbscan_cluster = DBSCAN(eps=1, min_samples=10, metric=\\\"euclidean\\\")\\n\\nclusters = dbscan_cluster.fit_predict(scaled)\";\n",
       "                var nbb_cells = Jupyter.notebook.get_cells();\n",
       "                for (var i = 0; i < nbb_cells.length; ++i) {\n",
       "                    if (nbb_cells[i].input_prompt_number == nbb_cell_id) {\n",
       "                        if (nbb_cells[i].get_text() == nbb_unformatted_code) {\n",
       "                             nbb_cells[i].set_text(nbb_formatted_code);\n",
       "                        }\n",
       "                        break;\n",
       "                    }\n",
       "                }\n",
       "            }, 500);\n",
       "            "
      ],
      "text/plain": [
       "<IPython.core.display.Javascript object>"
      ]
     },
     "metadata": {},
     "output_type": "display_data"
    }
   ],
   "source": [
    "yr_2014[\"label\"] = dbscan_cluster.labels_\n",
    "yr_2014[\"label\"].value_counts()"
   ]
  }
 ],
 "metadata": {
  "kernelspec": {
   "display_name": "Python 3",
   "language": "python",
   "name": "python3"
  },
  "language_info": {
   "codemirror_mode": {
    "name": "ipython",
    "version": 3
   },
   "file_extension": ".py",
   "mimetype": "text/x-python",
   "name": "python",
   "nbconvert_exporter": "python",
   "pygments_lexer": "ipython3",
   "version": "3.7.6"
  }
 },
 "nbformat": 4,
 "nbformat_minor": 4
}
